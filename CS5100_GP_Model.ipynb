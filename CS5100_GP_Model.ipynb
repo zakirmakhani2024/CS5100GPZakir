{
  "nbformat": 4,
  "nbformat_minor": 0,
  "metadata": {
    "colab": {
      "provenance": [],
      "toc_visible": true
    },
    "kernelspec": {
      "name": "python3",
      "display_name": "Python 3"
    },
    "language_info": {
      "name": "python"
    }
  },
  "cells": [
    {
      "cell_type": "markdown",
      "source": [
        "# Global Income Prediction"
      ],
      "metadata": {
        "id": "jkVjiAttgEyy"
      }
    },
    {
      "cell_type": "markdown",
      "source": [
        "## Imports"
      ],
      "metadata": {
        "id": "b7drqGl3JqOq"
      }
    },
    {
      "cell_type": "code",
      "source": [
        "import os\n",
        "import sys\n",
        "import numpy as np\n",
        "import pandas as pd\n",
        "from matplotlib import pyplot as plt\n",
        "import seaborn as sns\n",
        "from sklearn.preprocessing import StandardScaler\n",
        "from sklearn.linear_model import LogisticRegression\n",
        "from sklearn.svm import SVR\n",
        "from sklearn.model_selection import train_test_split, GridSearchCV\n",
        "from sklearn import metrics\n",
        "from sklearn.metrics import r2_score\n",
        "from sklearn.metrics import mean_absolute_error\n",
        "from sklearn.metrics import classification_report, confusion_matrix, accuracy_score, precision_score, recall_score,f1_score"
      ],
      "metadata": {
        "id": "sg5ojtlEgUA3"
      },
      "execution_count": 2,
      "outputs": []
    },
    {
      "cell_type": "markdown",
      "source": [
        "## Data Preparation"
      ],
      "metadata": {
        "id": "So8v09G_JseG"
      }
    },
    {
      "cell_type": "code",
      "source": [
        "# CURRENT_DIR = os.path.abspath(os.path.dirname(__name__))\n",
        "# DATA_DIR = os.path.join(CURRENT_DIR, 'data')\n",
        "TRAIN_DATA_FILE = os.path.join('/data', 'adult.data')"
      ],
      "metadata": {
        "id": "9IJTOKrhgW1R"
      },
      "execution_count": 3,
      "outputs": []
    },
    {
      "cell_type": "code",
      "source": [
        "print(TRAIN_DATA_FILE)"
      ],
      "metadata": {
        "id": "A0XdeFeYMLIr",
        "colab": {
          "base_uri": "https://localhost:8080/"
        },
        "outputId": "0739b314-15bf-4a51-b751-08b3fd3aecb4"
      },
      "execution_count": 4,
      "outputs": [
        {
          "output_type": "stream",
          "name": "stdout",
          "text": [
            "/data/adult.data\n"
          ]
        }
      ]
    },
    {
      "cell_type": "code",
      "source": [
        "# Organize data into respective categories\n",
        "from collections import OrderedDict\n",
        "\n",
        "data_types = OrderedDict([\n",
        "    (\"age\", \"int\"),\n",
        "    (\"workclass\", \"category\"),\n",
        "    (\"final_weight\", \"int\"),  # originally it was called fnlwgt\n",
        "    (\"education\", \"category\"),\n",
        "    (\"education_num\", \"int\"),\n",
        "    (\"marital_status\", \"category\"),\n",
        "    (\"occupation\", \"category\"),\n",
        "    (\"relationship\", \"category\"),\n",
        "    (\"race\", \"category\"),\n",
        "    (\"sex\", \"category\"),\n",
        "    (\"capital_gain\", \"float\"),  # required because of NaN values\n",
        "    (\"capital_loss\", \"int\"),\n",
        "    (\"hours_per_week\", \"int\"),\n",
        "    (\"native_country\", \"category\"),\n",
        "    (\"income_class\", \"category\"),\n",
        "])\n",
        "target_column = \"income_class\""
      ],
      "metadata": {
        "id": "23LEH24QiDWo"
      },
      "execution_count": 5,
      "outputs": []
    },
    {
      "cell_type": "code",
      "source": [
        "def read_dataset(path):\n",
        "    return pd.read_csv(\n",
        "        path,\n",
        "        names=data_types,\n",
        "        index_col=None,\n",
        "\n",
        "        comment='|',  # test dataset has comment in it\n",
        "        skipinitialspace=True,  # Skip spaces after delimiter\n",
        "        na_values={\n",
        "            'capital_gain': 99999,\n",
        "            'workclass': '?',\n",
        "            'native_country': '?',\n",
        "            'occupation': '?',\n",
        "        },\n",
        "        dtype=data_types,\n",
        "    )\n",
        "\n",
        "def clean_dataset(data):\n",
        "    # Test dataset has dot at the end, we remove it in order\n",
        "    # to unify names between training and test datasets.\n",
        "    data['income_class'] = data.income_class.str.rstrip('.').astype('category')\n",
        "    \n",
        "    # Remove final weight column since there is no use\n",
        "    # for it during the classification.\n",
        "    data = data.drop('final_weight', axis=1)\n",
        "    \n",
        "    # Duplicates might create biases during the analysis and\n",
        "    # during prediction stage they might give over-optimistic\n",
        "    # (or pessimistic) results.\n",
        "    data = data.drop_duplicates()\n",
        "    \n",
        "    # Binarize target variable (>50K == 1 and <=50K == 0)\n",
        "    data[target_column] = (data[target_column] == '>50K').astype(int)\n",
        "\n",
        "    return data"
      ],
      "metadata": {
        "id": "V6Xi6GHviOng"
      },
      "execution_count": 6,
      "outputs": []
    },
    {
      "cell_type": "code",
      "source": [
        " # data = clean_dataset(read_dataset(TRAIN_DATA_FILE))\n",
        "\n",
        "\n",
        " # print(\"Percent of the positive classes in the training data: {:.2%}\".format(np.mean(data.income_class)))"
      ],
      "metadata": {
        "id": "iTll9182Be64"
      },
      "execution_count": 7,
      "outputs": []
    },
    {
      "cell_type": "code",
      "source": [
        "# Alternatively, we can upload adult.data onto colab and run the following code\n",
        "data = clean_dataset(pd.read_csv(\n",
        "        'adult.data',\n",
        "        names=data_types,\n",
        "        index_col=None,\n",
        "\n",
        "        comment='|',  # test dataset has comment in it\n",
        "        skipinitialspace=True,  # Skip spaces after delimiter\n",
        "        na_values={\n",
        "            'capital_gain': 99999,\n",
        "            'workclass': '?',\n",
        "            'native_country': '?',\n",
        "            'occupation': '?',\n",
        "        },\n",
        "        dtype=data_types,\n",
        "    ))"
      ],
      "metadata": {
        "id": "NYVyedEHNP75"
      },
      "execution_count": 8,
      "outputs": []
    },
    {
      "cell_type": "code",
      "source": [
        "data.info()"
      ],
      "metadata": {
        "colab": {
          "base_uri": "https://localhost:8080/"
        },
        "id": "6UqeZJFZigyL",
        "outputId": "d79ea3ea-c8af-4f17-d367-e18434f54b28"
      },
      "execution_count": 9,
      "outputs": [
        {
          "output_type": "stream",
          "name": "stdout",
          "text": [
            "<class 'pandas.core.frame.DataFrame'>\n",
            "Int64Index: 29096 entries, 0 to 32560\n",
            "Data columns (total 14 columns):\n",
            " #   Column          Non-Null Count  Dtype   \n",
            "---  ------          --------------  -----   \n",
            " 0   age             29096 non-null  int64   \n",
            " 1   workclass       27464 non-null  category\n",
            " 2   education       29096 non-null  category\n",
            " 3   education_num   29096 non-null  int64   \n",
            " 4   marital_status  29096 non-null  category\n",
            " 5   occupation      27457 non-null  category\n",
            " 6   relationship    29096 non-null  category\n",
            " 7   race            29096 non-null  category\n",
            " 8   sex             29096 non-null  category\n",
            " 9   capital_gain    28938 non-null  float64 \n",
            " 10  capital_loss    29096 non-null  int64   \n",
            " 11  hours_per_week  29096 non-null  int64   \n",
            " 12  native_country  28516 non-null  category\n",
            " 13  income_class    29096 non-null  int64   \n",
            "dtypes: category(8), float64(1), int64(5)\n",
            "memory usage: 1.8 MB\n"
          ]
        }
      ]
    },
    {
      "cell_type": "code",
      "source": [
        "data.head()"
      ],
      "metadata": {
        "colab": {
          "base_uri": "https://localhost:8080/",
          "height": 340
        },
        "id": "MV2GucRKitaI",
        "outputId": "bf362736-d6fd-4c63-931d-651fce94c7d5"
      },
      "execution_count": 10,
      "outputs": [
        {
          "output_type": "execute_result",
          "data": {
            "text/plain": [
              "   age         workclass  education  education_num      marital_status  \\\n",
              "0   39         State-gov  Bachelors             13       Never-married   \n",
              "1   50  Self-emp-not-inc  Bachelors             13  Married-civ-spouse   \n",
              "2   38           Private    HS-grad              9            Divorced   \n",
              "3   53           Private       11th              7  Married-civ-spouse   \n",
              "4   28           Private  Bachelors             13  Married-civ-spouse   \n",
              "\n",
              "          occupation   relationship   race     sex  capital_gain  \\\n",
              "0       Adm-clerical  Not-in-family  White    Male        2174.0   \n",
              "1    Exec-managerial        Husband  White    Male           0.0   \n",
              "2  Handlers-cleaners  Not-in-family  White    Male           0.0   \n",
              "3  Handlers-cleaners        Husband  Black    Male           0.0   \n",
              "4     Prof-specialty           Wife  Black  Female           0.0   \n",
              "\n",
              "   capital_loss  hours_per_week native_country  income_class  \n",
              "0             0              40  United-States             0  \n",
              "1             0              13  United-States             0  \n",
              "2             0              40  United-States             0  \n",
              "3             0              40  United-States             0  \n",
              "4             0              40           Cuba             0  "
            ],
            "text/html": [
              "\n",
              "  <div id=\"df-1b56c811-9917-4946-a9d3-398fef62804a\">\n",
              "    <div class=\"colab-df-container\">\n",
              "      <div>\n",
              "<style scoped>\n",
              "    .dataframe tbody tr th:only-of-type {\n",
              "        vertical-align: middle;\n",
              "    }\n",
              "\n",
              "    .dataframe tbody tr th {\n",
              "        vertical-align: top;\n",
              "    }\n",
              "\n",
              "    .dataframe thead th {\n",
              "        text-align: right;\n",
              "    }\n",
              "</style>\n",
              "<table border=\"1\" class=\"dataframe\">\n",
              "  <thead>\n",
              "    <tr style=\"text-align: right;\">\n",
              "      <th></th>\n",
              "      <th>age</th>\n",
              "      <th>workclass</th>\n",
              "      <th>education</th>\n",
              "      <th>education_num</th>\n",
              "      <th>marital_status</th>\n",
              "      <th>occupation</th>\n",
              "      <th>relationship</th>\n",
              "      <th>race</th>\n",
              "      <th>sex</th>\n",
              "      <th>capital_gain</th>\n",
              "      <th>capital_loss</th>\n",
              "      <th>hours_per_week</th>\n",
              "      <th>native_country</th>\n",
              "      <th>income_class</th>\n",
              "    </tr>\n",
              "  </thead>\n",
              "  <tbody>\n",
              "    <tr>\n",
              "      <th>0</th>\n",
              "      <td>39</td>\n",
              "      <td>State-gov</td>\n",
              "      <td>Bachelors</td>\n",
              "      <td>13</td>\n",
              "      <td>Never-married</td>\n",
              "      <td>Adm-clerical</td>\n",
              "      <td>Not-in-family</td>\n",
              "      <td>White</td>\n",
              "      <td>Male</td>\n",
              "      <td>2174.0</td>\n",
              "      <td>0</td>\n",
              "      <td>40</td>\n",
              "      <td>United-States</td>\n",
              "      <td>0</td>\n",
              "    </tr>\n",
              "    <tr>\n",
              "      <th>1</th>\n",
              "      <td>50</td>\n",
              "      <td>Self-emp-not-inc</td>\n",
              "      <td>Bachelors</td>\n",
              "      <td>13</td>\n",
              "      <td>Married-civ-spouse</td>\n",
              "      <td>Exec-managerial</td>\n",
              "      <td>Husband</td>\n",
              "      <td>White</td>\n",
              "      <td>Male</td>\n",
              "      <td>0.0</td>\n",
              "      <td>0</td>\n",
              "      <td>13</td>\n",
              "      <td>United-States</td>\n",
              "      <td>0</td>\n",
              "    </tr>\n",
              "    <tr>\n",
              "      <th>2</th>\n",
              "      <td>38</td>\n",
              "      <td>Private</td>\n",
              "      <td>HS-grad</td>\n",
              "      <td>9</td>\n",
              "      <td>Divorced</td>\n",
              "      <td>Handlers-cleaners</td>\n",
              "      <td>Not-in-family</td>\n",
              "      <td>White</td>\n",
              "      <td>Male</td>\n",
              "      <td>0.0</td>\n",
              "      <td>0</td>\n",
              "      <td>40</td>\n",
              "      <td>United-States</td>\n",
              "      <td>0</td>\n",
              "    </tr>\n",
              "    <tr>\n",
              "      <th>3</th>\n",
              "      <td>53</td>\n",
              "      <td>Private</td>\n",
              "      <td>11th</td>\n",
              "      <td>7</td>\n",
              "      <td>Married-civ-spouse</td>\n",
              "      <td>Handlers-cleaners</td>\n",
              "      <td>Husband</td>\n",
              "      <td>Black</td>\n",
              "      <td>Male</td>\n",
              "      <td>0.0</td>\n",
              "      <td>0</td>\n",
              "      <td>40</td>\n",
              "      <td>United-States</td>\n",
              "      <td>0</td>\n",
              "    </tr>\n",
              "    <tr>\n",
              "      <th>4</th>\n",
              "      <td>28</td>\n",
              "      <td>Private</td>\n",
              "      <td>Bachelors</td>\n",
              "      <td>13</td>\n",
              "      <td>Married-civ-spouse</td>\n",
              "      <td>Prof-specialty</td>\n",
              "      <td>Wife</td>\n",
              "      <td>Black</td>\n",
              "      <td>Female</td>\n",
              "      <td>0.0</td>\n",
              "      <td>0</td>\n",
              "      <td>40</td>\n",
              "      <td>Cuba</td>\n",
              "      <td>0</td>\n",
              "    </tr>\n",
              "  </tbody>\n",
              "</table>\n",
              "</div>\n",
              "      <button class=\"colab-df-convert\" onclick=\"convertToInteractive('df-1b56c811-9917-4946-a9d3-398fef62804a')\"\n",
              "              title=\"Convert this dataframe to an interactive table.\"\n",
              "              style=\"display:none;\">\n",
              "        \n",
              "  <svg xmlns=\"http://www.w3.org/2000/svg\" height=\"24px\"viewBox=\"0 0 24 24\"\n",
              "       width=\"24px\">\n",
              "    <path d=\"M0 0h24v24H0V0z\" fill=\"none\"/>\n",
              "    <path d=\"M18.56 5.44l.94 2.06.94-2.06 2.06-.94-2.06-.94-.94-2.06-.94 2.06-2.06.94zm-11 1L8.5 8.5l.94-2.06 2.06-.94-2.06-.94L8.5 2.5l-.94 2.06-2.06.94zm10 10l.94 2.06.94-2.06 2.06-.94-2.06-.94-.94-2.06-.94 2.06-2.06.94z\"/><path d=\"M17.41 7.96l-1.37-1.37c-.4-.4-.92-.59-1.43-.59-.52 0-1.04.2-1.43.59L10.3 9.45l-7.72 7.72c-.78.78-.78 2.05 0 2.83L4 21.41c.39.39.9.59 1.41.59.51 0 1.02-.2 1.41-.59l7.78-7.78 2.81-2.81c.8-.78.8-2.07 0-2.86zM5.41 20L4 18.59l7.72-7.72 1.47 1.35L5.41 20z\"/>\n",
              "  </svg>\n",
              "      </button>\n",
              "      \n",
              "  <style>\n",
              "    .colab-df-container {\n",
              "      display:flex;\n",
              "      flex-wrap:wrap;\n",
              "      gap: 12px;\n",
              "    }\n",
              "\n",
              "    .colab-df-convert {\n",
              "      background-color: #E8F0FE;\n",
              "      border: none;\n",
              "      border-radius: 50%;\n",
              "      cursor: pointer;\n",
              "      display: none;\n",
              "      fill: #1967D2;\n",
              "      height: 32px;\n",
              "      padding: 0 0 0 0;\n",
              "      width: 32px;\n",
              "    }\n",
              "\n",
              "    .colab-df-convert:hover {\n",
              "      background-color: #E2EBFA;\n",
              "      box-shadow: 0px 1px 2px rgba(60, 64, 67, 0.3), 0px 1px 3px 1px rgba(60, 64, 67, 0.15);\n",
              "      fill: #174EA6;\n",
              "    }\n",
              "\n",
              "    [theme=dark] .colab-df-convert {\n",
              "      background-color: #3B4455;\n",
              "      fill: #D2E3FC;\n",
              "    }\n",
              "\n",
              "    [theme=dark] .colab-df-convert:hover {\n",
              "      background-color: #434B5C;\n",
              "      box-shadow: 0px 1px 3px 1px rgba(0, 0, 0, 0.15);\n",
              "      filter: drop-shadow(0px 1px 2px rgba(0, 0, 0, 0.3));\n",
              "      fill: #FFFFFF;\n",
              "    }\n",
              "  </style>\n",
              "\n",
              "      <script>\n",
              "        const buttonEl =\n",
              "          document.querySelector('#df-1b56c811-9917-4946-a9d3-398fef62804a button.colab-df-convert');\n",
              "        buttonEl.style.display =\n",
              "          google.colab.kernel.accessAllowed ? 'block' : 'none';\n",
              "\n",
              "        async function convertToInteractive(key) {\n",
              "          const element = document.querySelector('#df-1b56c811-9917-4946-a9d3-398fef62804a');\n",
              "          const dataTable =\n",
              "            await google.colab.kernel.invokeFunction('convertToInteractive',\n",
              "                                                     [key], {});\n",
              "          if (!dataTable) return;\n",
              "\n",
              "          const docLinkHtml = 'Like what you see? Visit the ' +\n",
              "            '<a target=\"_blank\" href=https://colab.research.google.com/notebooks/data_table.ipynb>data table notebook</a>'\n",
              "            + ' to learn more about interactive tables.';\n",
              "          element.innerHTML = '';\n",
              "          dataTable['output_type'] = 'display_data';\n",
              "          await google.colab.output.renderOutput(dataTable, element);\n",
              "          const docLink = document.createElement('div');\n",
              "          docLink.innerHTML = docLinkHtml;\n",
              "          element.appendChild(docLink);\n",
              "        }\n",
              "      </script>\n",
              "    </div>\n",
              "  </div>\n",
              "  "
            ]
          },
          "metadata": {},
          "execution_count": 10
        }
      ]
    },
    {
      "cell_type": "code",
      "source": [
        "# Generate heap map for df\n",
        "fig, ax = plt.subplots(figsize=(10, 8))\n",
        "dataplot = sns.heatmap(data.corr(),annot=True)\n",
        "plt.show()"
      ],
      "metadata": {
        "colab": {
          "base_uri": "https://localhost:8080/",
          "height": 488
        },
        "id": "8j-AP-uulWFp",
        "outputId": "749b9179-e5a5-4512-84af-3da718efefc9"
      },
      "execution_count": 11,
      "outputs": [
        {
          "output_type": "display_data",
          "data": {
            "text/plain": [
              "<Figure size 720x576 with 2 Axes>"
            ],
            "image/png": "[encoded data removed]"
          },
          "metadata": {
            "needs_background": "light"
          }
        }
      ]
    },
    {
      "cell_type": "markdown",
      "source": [
        "## Linear Model"
      ],
      "metadata": {
        "id": "fixtAYl4JxLN"
      }
    },
    {
      "cell_type": "markdown",
      "source": [
        "<div>With Only numerical features</div>\n",
        "<div> We can start off with only a couple of numerical features, which is easy to apply and don't require extra data transformations.\n",
        "</div>\n"
      ],
      "metadata": {
        "id": "McVL6DVjixeS"
      }
    },
    {
      "cell_type": "markdown",
      "source": [
        "### Logistic Regression with 3 features"
      ],
      "metadata": {
        "id": "xXWRmXuTLeFg"
      }
    },
    {
      "cell_type": "code",
      "source": [
        "# Select 3 numerical features for our model\n",
        "features = [\n",
        "    'age',\n",
        "    'education_num',\n",
        "    'hours_per_week'\n",
        "]"
      ],
      "metadata": {
        "id": "YAwjEf0PivwJ"
      },
      "execution_count": 12,
      "outputs": []
    },
    {
      "cell_type": "code",
      "source": [
        "# data processing - dropping other data column\n",
        "\n",
        "X1 = data.copy(deep=True)\n",
        "\n",
        "for i in X1:\n",
        "    if i not in features:\n",
        "        # print(i)\n",
        "        X1 = X1.drop([i], axis =1)\n",
        "        \n",
        "y1 = data.income_class\n",
        "X1"
      ],
      "metadata": {
        "colab": {
          "base_uri": "https://localhost:8080/",
          "height": 424
        },
        "id": "1ybK8cW3jw7T",
        "outputId": "4cbb5ec3-29b5-4e3a-d88b-de2d753b2e85"
      },
      "execution_count": 13,
      "outputs": [
        {
          "output_type": "execute_result",
          "data": {
            "text/plain": [
              "       age  education_num  hours_per_week\n",
              "0       39             13              40\n",
              "1       50             13              13\n",
              "2       38              9              40\n",
              "3       53              7              40\n",
              "4       28             13              40\n",
              "...    ...            ...             ...\n",
              "32554   53             14              40\n",
              "32555   22             10              40\n",
              "32556   27             12              38\n",
              "32558   58              9              40\n",
              "32560   52              9              40\n",
              "\n",
              "[29096 rows x 3 columns]"
            ],
            "text/html": [
              "\n",
              "  <div id=\"df-5d3ba88a-ecf5-46c8-bf0f-21d1b3d16724\">\n",
              "    <div class=\"colab-df-container\">\n",
              "      <div>\n",
              "<style scoped>\n",
              "    .dataframe tbody tr th:only-of-type {\n",
              "        vertical-align: middle;\n",
              "    }\n",
              "\n",
              "    .dataframe tbody tr th {\n",
              "        vertical-align: top;\n",
              "    }\n",
              "\n",
              "    .dataframe thead th {\n",
              "        text-align: right;\n",
              "    }\n",
              "</style>\n",
              "<table border=\"1\" class=\"dataframe\">\n",
              "  <thead>\n",
              "    <tr style=\"text-align: right;\">\n",
              "      <th></th>\n",
              "      <th>age</th>\n",
              "      <th>education_num</th>\n",
              "      <th>hours_per_week</th>\n",
              "    </tr>\n",
              "  </thead>\n",
              "  <tbody>\n",
              "    <tr>\n",
              "      <th>0</th>\n",
              "      <td>39</td>\n",
              "      <td>13</td>\n",
              "      <td>40</td>\n",
              "    </tr>\n",
              "    <tr>\n",
              "      <th>1</th>\n",
              "      <td>50</td>\n",
              "      <td>13</td>\n",
              "      <td>13</td>\n",
              "    </tr>\n",
              "    <tr>\n",
              "      <th>2</th>\n",
              "      <td>38</td>\n",
              "      <td>9</td>\n",
              "      <td>40</td>\n",
              "    </tr>\n",
              "    <tr>\n",
              "      <th>3</th>\n",
              "      <td>53</td>\n",
              "      <td>7</td>\n",
              "      <td>40</td>\n",
              "    </tr>\n",
              "    <tr>\n",
              "      <th>4</th>\n",
              "      <td>28</td>\n",
              "      <td>13</td>\n",
              "      <td>40</td>\n",
              "    </tr>\n",
              "    <tr>\n",
              "      <th>...</th>\n",
              "      <td>...</td>\n",
              "      <td>...</td>\n",
              "      <td>...</td>\n",
              "    </tr>\n",
              "    <tr>\n",
              "      <th>32554</th>\n",
              "      <td>53</td>\n",
              "      <td>14</td>\n",
              "      <td>40</td>\n",
              "    </tr>\n",
              "    <tr>\n",
              "      <th>32555</th>\n",
              "      <td>22</td>\n",
              "      <td>10</td>\n",
              "      <td>40</td>\n",
              "    </tr>\n",
              "    <tr>\n",
              "      <th>32556</th>\n",
              "      <td>27</td>\n",
              "      <td>12</td>\n",
              "      <td>38</td>\n",
              "    </tr>\n",
              "    <tr>\n",
              "      <th>32558</th>\n",
              "      <td>58</td>\n",
              "      <td>9</td>\n",
              "      <td>40</td>\n",
              "    </tr>\n",
              "    <tr>\n",
              "      <th>32560</th>\n",
              "      <td>52</td>\n",
              "      <td>9</td>\n",
              "      <td>40</td>\n",
              "    </tr>\n",
              "  </tbody>\n",
              "</table>\n",
              "<p>29096 rows × 3 columns</p>\n",
              "</div>\n",
              "      <button class=\"colab-df-convert\" onclick=\"convertToInteractive('df-5d3ba88a-ecf5-46c8-bf0f-21d1b3d16724')\"\n",
              "              title=\"Convert this dataframe to an interactive table.\"\n",
              "              style=\"display:none;\">\n",
              "        \n",
              "  <svg xmlns=\"http://www.w3.org/2000/svg\" height=\"24px\"viewBox=\"0 0 24 24\"\n",
              "       width=\"24px\">\n",
              "    <path d=\"M0 0h24v24H0V0z\" fill=\"none\"/>\n",
              "    <path d=\"M18.56 5.44l.94 2.06.94-2.06 2.06-.94-2.06-.94-.94-2.06-.94 2.06-2.06.94zm-11 1L8.5 8.5l.94-2.06 2.06-.94-2.06-.94L8.5 2.5l-.94 2.06-2.06.94zm10 10l.94 2.06.94-2.06 2.06-.94-2.06-.94-.94-2.06-.94 2.06-2.06.94z\"/><path d=\"M17.41 7.96l-1.37-1.37c-.4-.4-.92-.59-1.43-.59-.52 0-1.04.2-1.43.59L10.3 9.45l-7.72 7.72c-.78.78-.78 2.05 0 2.83L4 21.41c.39.39.9.59 1.41.59.51 0 1.02-.2 1.41-.59l7.78-7.78 2.81-2.81c.8-.78.8-2.07 0-2.86zM5.41 20L4 18.59l7.72-7.72 1.47 1.35L5.41 20z\"/>\n",
              "  </svg>\n",
              "      </button>\n",
              "      \n",
              "  <style>\n",
              "    .colab-df-container {\n",
              "      display:flex;\n",
              "      flex-wrap:wrap;\n",
              "      gap: 12px;\n",
              "    }\n",
              "\n",
              "    .colab-df-convert {\n",
              "      background-color: #E8F0FE;\n",
              "      border: none;\n",
              "      border-radius: 50%;\n",
              "      cursor: pointer;\n",
              "      display: none;\n",
              "      fill: #1967D2;\n",
              "      height: 32px;\n",
              "      padding: 0 0 0 0;\n",
              "      width: 32px;\n",
              "    }\n",
              "\n",
              "    .colab-df-convert:hover {\n",
              "      background-color: #E2EBFA;\n",
              "      box-shadow: 0px 1px 2px rgba(60, 64, 67, 0.3), 0px 1px 3px 1px rgba(60, 64, 67, 0.15);\n",
              "      fill: #174EA6;\n",
              "    }\n",
              "\n",
              "    [theme=dark] .colab-df-convert {\n",
              "      background-color: #3B4455;\n",
              "      fill: #D2E3FC;\n",
              "    }\n",
              "\n",
              "    [theme=dark] .colab-df-convert:hover {\n",
              "      background-color: #434B5C;\n",
              "      box-shadow: 0px 1px 3px 1px rgba(0, 0, 0, 0.15);\n",
              "      filter: drop-shadow(0px 1px 2px rgba(0, 0, 0, 0.3));\n",
              "      fill: #FFFFFF;\n",
              "    }\n",
              "  </style>\n",
              "\n",
              "      <script>\n",
              "        const buttonEl =\n",
              "          document.querySelector('#df-5d3ba88a-ecf5-46c8-bf0f-21d1b3d16724 button.colab-df-convert');\n",
              "        buttonEl.style.display =\n",
              "          google.colab.kernel.accessAllowed ? 'block' : 'none';\n",
              "\n",
              "        async function convertToInteractive(key) {\n",
              "          const element = document.querySelector('#df-5d3ba88a-ecf5-46c8-bf0f-21d1b3d16724');\n",
              "          const dataTable =\n",
              "            await google.colab.kernel.invokeFunction('convertToInteractive',\n",
              "                                                     [key], {});\n",
              "          if (!dataTable) return;\n",
              "\n",
              "          const docLinkHtml = 'Like what you see? Visit the ' +\n",
              "            '<a target=\"_blank\" href=https://colab.research.google.com/notebooks/data_table.ipynb>data table notebook</a>'\n",
              "            + ' to learn more about interactive tables.';\n",
              "          element.innerHTML = '';\n",
              "          dataTable['output_type'] = 'display_data';\n",
              "          await google.colab.output.renderOutput(dataTable, element);\n",
              "          const docLink = document.createElement('div');\n",
              "          docLink.innerHTML = docLinkHtml;\n",
              "          element.appendChild(docLink);\n",
              "        }\n",
              "      </script>\n",
              "    </div>\n",
              "  </div>\n",
              "  "
            ]
          },
          "metadata": {},
          "execution_count": 13
        }
      ]
    },
    {
      "cell_type": "code",
      "source": [
        "#perform train and test data splits using y and X\n",
        "X_train, X_test, y_train, y_test = train_test_split(X1, y1, test_size=0.2, random_state=1)\n",
        "# confirm we have the right number of train and test data set\n",
        "print( len(X_train), len(X_test), len(y_train), len(y_test) )"
      ],
      "metadata": {
        "colab": {
          "base_uri": "https://localhost:8080/"
        },
        "id": "ayi5dKhHjylv",
        "outputId": "d1732584-2582-481a-cc80-f364907b2f09"
      },
      "execution_count": 14,
      "outputs": [
        {
          "output_type": "stream",
          "name": "stdout",
          "text": [
            "23276 5820 23276 5820\n"
          ]
        }
      ]
    },
    {
      "cell_type": "code",
      "source": [
        "# Standardize data to make models coeficients interpratable. \n",
        "sc = StandardScaler()\n",
        "X_train = sc.fit_transform(X_train)\n",
        "X_test = sc.transform(X_test)"
      ],
      "metadata": {
        "id": "AcZ0Ae1yj0V8"
      },
      "execution_count": 15,
      "outputs": []
    },
    {
      "cell_type": "code",
      "source": [
        "logistic_regression = LogisticRegression()\n",
        "\n",
        "# instantiate Logistic Regression model\n",
        "logistic_regression.fit(X_train, y_train)"
      ],
      "metadata": {
        "colab": {
          "base_uri": "https://localhost:8080/"
        },
        "id": "kqRoLQTmj2L5",
        "outputId": "0b8c100c-5bb7-4b19-838a-16b03d2b7625"
      },
      "execution_count": 16,
      "outputs": [
        {
          "output_type": "execute_result",
          "data": {
            "text/plain": [
              "LogisticRegression()"
            ]
          },
          "metadata": {},
          "execution_count": 16
        }
      ]
    },
    {
      "cell_type": "code",
      "source": [
        "# Predict the results\n",
        "pred = logistic_regression.predict(X_test)\n"
      ],
      "metadata": {
        "id": "T6r_d-PJj3oL"
      },
      "execution_count": 17,
      "outputs": []
    },
    {
      "cell_type": "code",
      "source": [
        "print('Coefficients: \\n', logistic_regression.coef_)"
      ],
      "metadata": {
        "colab": {
          "base_uri": "https://localhost:8080/"
        },
        "id": "VT-8qoQWj7wa",
        "outputId": "16384bcb-697d-412b-a4b7-7eb5a1c36e5e"
      },
      "execution_count": 18,
      "outputs": [
        {
          "output_type": "stream",
          "name": "stdout",
          "text": [
            "Coefficients: \n",
            " [[0.58350974 0.87783566 0.52974063]]\n"
          ]
        }
      ]
    },
    {
      "cell_type": "code",
      "source": [
        "# Calculate and print R^2 and MAE\n",
        "print( 'R^2:', r2_score(y_test, pred))\n",
        "print( 'MAE:', mean_absolute_error(y_test, pred))\n",
        "print('RMSE:', np.sqrt(metrics.mean_squared_error(y_test, pred)))\n",
        "print('MSE:', metrics.mean_squared_error(y_test, pred))\n",
        "print('\\n')"
      ],
      "metadata": {
        "colab": {
          "base_uri": "https://localhost:8080/"
        },
        "id": "zu2tpRk7kA5N",
        "outputId": "b6da21d6-d584-45ff-94aa-95deccbbd47a"
      },
      "execution_count": 19,
      "outputs": [
        {
          "output_type": "stream",
          "name": "stdout",
          "text": [
            "R^2: -0.15713470319634704\n",
            "MAE: 0.2154639175257732\n",
            "RMSE: 0.46418091034183345\n",
            "MSE: 0.2154639175257732\n",
            "\n",
            "\n"
          ]
        }
      ]
    },
    {
      "cell_type": "code",
      "source": [
        "plt.title('Confusion Matrix for Logistic Regression')\n",
        "cm_lr = confusion_matrix(y_test,pred)\n",
        "sns.heatmap(cm_lr,annot=True, fmt=\"d\", cmap=\"YlGnBu\")\n",
        "plt.xlabel('Predicted Values')\n",
        "plt.ylabel('Actual Values')\n",
        "plt.show()"
      ],
      "metadata": {
        "colab": {
          "base_uri": "https://localhost:8080/",
          "height": 295
        },
        "id": "2nscQsnkmfI5",
        "outputId": "ebb1e855-4690-4ece-fbb4-8f1ef3e13953"
      },
      "execution_count": 20,
      "outputs": [
        {
          "output_type": "display_data",
          "data": {
            "text/plain": [
              "<Figure size 432x288 with 2 Axes>"
            ],
            "image/png": "[encoded data removed]"
          },
          "metadata": {
            "needs_background": "light"
          }
        }
      ]
    },
    {
      "cell_type": "code",
      "source": [
        "print('\\nClassification Report of Logistic Regression\\n')\n",
        "print(classification_report(y_test, pred))\n",
        "\n",
        "print(\"Precision score of Logistic Regression:\", precision_score(y_test, pred, average = 'weighted'))\n",
        "print(\"Recall score of Logistic Regression:\", recall_score(y_test, pred, average = 'weighted'))\n",
        "print(\"F1 score of Logistic Regression:\", f1_score(y_test, pred, average = 'weighted'))"
      ],
      "metadata": {
        "colab": {
          "base_uri": "https://localhost:8080/"
        },
        "id": "KmCdb6r8kOM2",
        "outputId": "a2d59aa8-e82b-4a7a-877f-8d55da983085"
      },
      "execution_count": 21,
      "outputs": [
        {
          "output_type": "stream",
          "name": "stdout",
          "text": [
            "\n",
            "Classification Report of Logistic Regression\n",
            "\n",
            "              precision    recall  f1-score   support\n",
            "\n",
            "           0       0.81      0.94      0.87      4380\n",
            "           1       0.62      0.33      0.43      1440\n",
            "\n",
            "    accuracy                           0.78      5820\n",
            "   macro avg       0.72      0.63      0.65      5820\n",
            "weighted avg       0.76      0.78      0.76      5820\n",
            "\n",
            "Precision score of Logistic Regression: 0.76270840373719\n",
            "Recall score of Logistic Regression: 0.7845360824742268\n",
            "F1 score of Logistic Regression: 0.7586752856156528\n"
          ]
        }
      ]
    },
    {
      "cell_type": "code",
      "source": [
        "from sklearn.metrics import plot_roc_curve\n",
        "# Plot ROC curve\n",
        "plot_roc_curve(logistic_regression, X_test, y_test)\n",
        "plt.plot([0, 1], [0, 1], 'k--')\n",
        "plt.title('ROC Curve')\n",
        "plt.show()"
      ],
      "metadata": {
        "colab": {
          "base_uri": "https://localhost:8080/",
          "height": 351
        },
        "id": "oJtG0EPVmsFr",
        "outputId": "e9c54b67-9fd4-431d-ca17-6c5fc3c6bd03"
      },
      "execution_count": 22,
      "outputs": [
        {
          "output_type": "stream",
          "name": "stderr",
          "text": [
            "/usr/local/lib/python3.7/dist-packages/sklearn/utils/deprecation.py:87: FutureWarning: Function plot_roc_curve is deprecated; Function :func:`plot_roc_curve` is deprecated in 1.0 and will be removed in 1.2. Use one of the class methods: :meth:`sklearn.metric.RocCurveDisplay.from_predictions` or :meth:`sklearn.metric.RocCurveDisplay.from_estimator`.\n",
            "  warnings.warn(msg, category=FutureWarning)\n"
          ]
        },
        {
          "output_type": "display_data",
          "data": {
            "text/plain": [
              "<Figure size 432x288 with 1 Axes>"
            ],
            "image/png": "[encoded data removed]"
          },
          "metadata": {
            "needs_background": "light"
          }
        }
      ]
    },
    {
      "cell_type": "markdown",
      "source": [
        "### Logistic Regression Model with 5 Features"
      ],
      "metadata": {
        "id": "pzntS1XNkcbn"
      }
    },
    {
      "cell_type": "code",
      "source": [
        "# Select 5 Features for aour prediciton model.\n",
        "features = [\n",
        "    'age',\n",
        "    'education_num',\n",
        "    'hours_per_week',\n",
        "    'capital_gain',\n",
        "    'capital_loss'\n",
        "]"
      ],
      "metadata": {
        "id": "p3HIxlWqkbt8"
      },
      "execution_count": 23,
      "outputs": []
    },
    {
      "cell_type": "code",
      "source": [
        "# data processing - dropping other data column\n",
        "\n",
        "X2 = data.copy(deep=True)\n",
        "\n",
        "for i in X2:\n",
        "    if i not in features:\n",
        "        # print(i)\n",
        "        X2 = X2.drop([i], axis =1)\n",
        "        \n",
        "y2 = data.income_class\n",
        "X2"
      ],
      "metadata": {
        "colab": {
          "base_uri": "https://localhost:8080/",
          "height": 424
        },
        "id": "BhwiTBopkz0u",
        "outputId": "bb0c175a-0d0f-4cd1-840f-4b8393756cb8"
      },
      "execution_count": 24,
      "outputs": [
        {
          "output_type": "execute_result",
          "data": {
            "text/plain": [
              "       age  education_num  capital_gain  capital_loss  hours_per_week\n",
              "0       39             13        2174.0             0              40\n",
              "1       50             13           0.0             0              13\n",
              "2       38              9           0.0             0              40\n",
              "3       53              7           0.0             0              40\n",
              "4       28             13           0.0             0              40\n",
              "...    ...            ...           ...           ...             ...\n",
              "32554   53             14           0.0             0              40\n",
              "32555   22             10           0.0             0              40\n",
              "32556   27             12           0.0             0              38\n",
              "32558   58              9           0.0             0              40\n",
              "32560   52              9       15024.0             0              40\n",
              "\n",
              "[29096 rows x 5 columns]"
            ],
            "text/html": [
              "\n",
              "  <div id=\"df-3b479add-22ae-4d22-82a8-528eb7866dcc\">\n",
              "    <div class=\"colab-df-container\">\n",
              "      <div>\n",
              "<style scoped>\n",
              "    .dataframe tbody tr th:only-of-type {\n",
              "        vertical-align: middle;\n",
              "    }\n",
              "\n",
              "    .dataframe tbody tr th {\n",
              "        vertical-align: top;\n",
              "    }\n",
              "\n",
              "    .dataframe thead th {\n",
              "        text-align: right;\n",
              "    }\n",
              "</style>\n",
              "<table border=\"1\" class=\"dataframe\">\n",
              "  <thead>\n",
              "    <tr style=\"text-align: right;\">\n",
              "      <th></th>\n",
              "      <th>age</th>\n",
              "      <th>education_num</th>\n",
              "      <th>capital_gain</th>\n",
              "      <th>capital_loss</th>\n",
              "      <th>hours_per_week</th>\n",
              "    </tr>\n",
              "  </thead>\n",
              "  <tbody>\n",
              "    <tr>\n",
              "      <th>0</th>\n",
              "      <td>39</td>\n",
              "      <td>13</td>\n",
              "      <td>2174.0</td>\n",
              "      <td>0</td>\n",
              "      <td>40</td>\n",
              "    </tr>\n",
              "    <tr>\n",
              "      <th>1</th>\n",
              "      <td>50</td>\n",
              "      <td>13</td>\n",
              "      <td>0.0</td>\n",
              "      <td>0</td>\n",
              "      <td>13</td>\n",
              "    </tr>\n",
              "    <tr>\n",
              "      <th>2</th>\n",
              "      <td>38</td>\n",
              "      <td>9</td>\n",
              "      <td>0.0</td>\n",
              "      <td>0</td>\n",
              "      <td>40</td>\n",
              "    </tr>\n",
              "    <tr>\n",
              "      <th>3</th>\n",
              "      <td>53</td>\n",
              "      <td>7</td>\n",
              "      <td>0.0</td>\n",
              "      <td>0</td>\n",
              "      <td>40</td>\n",
              "    </tr>\n",
              "    <tr>\n",
              "      <th>4</th>\n",
              "      <td>28</td>\n",
              "      <td>13</td>\n",
              "      <td>0.0</td>\n",
              "      <td>0</td>\n",
              "      <td>40</td>\n",
              "    </tr>\n",
              "    <tr>\n",
              "      <th>...</th>\n",
              "      <td>...</td>\n",
              "      <td>...</td>\n",
              "      <td>...</td>\n",
              "      <td>...</td>\n",
              "      <td>...</td>\n",
              "    </tr>\n",
              "    <tr>\n",
              "      <th>32554</th>\n",
              "      <td>53</td>\n",
              "      <td>14</td>\n",
              "      <td>0.0</td>\n",
              "      <td>0</td>\n",
              "      <td>40</td>\n",
              "    </tr>\n",
              "    <tr>\n",
              "      <th>32555</th>\n",
              "      <td>22</td>\n",
              "      <td>10</td>\n",
              "      <td>0.0</td>\n",
              "      <td>0</td>\n",
              "      <td>40</td>\n",
              "    </tr>\n",
              "    <tr>\n",
              "      <th>32556</th>\n",
              "      <td>27</td>\n",
              "      <td>12</td>\n",
              "      <td>0.0</td>\n",
              "      <td>0</td>\n",
              "      <td>38</td>\n",
              "    </tr>\n",
              "    <tr>\n",
              "      <th>32558</th>\n",
              "      <td>58</td>\n",
              "      <td>9</td>\n",
              "      <td>0.0</td>\n",
              "      <td>0</td>\n",
              "      <td>40</td>\n",
              "    </tr>\n",
              "    <tr>\n",
              "      <th>32560</th>\n",
              "      <td>52</td>\n",
              "      <td>9</td>\n",
              "      <td>15024.0</td>\n",
              "      <td>0</td>\n",
              "      <td>40</td>\n",
              "    </tr>\n",
              "  </tbody>\n",
              "</table>\n",
              "<p>29096 rows × 5 columns</p>\n",
              "</div>\n",
              "      <button class=\"colab-df-convert\" onclick=\"convertToInteractive('df-3b479add-22ae-4d22-82a8-528eb7866dcc')\"\n",
              "              title=\"Convert this dataframe to an interactive table.\"\n",
              "              style=\"display:none;\">\n",
              "        \n",
              "  <svg xmlns=\"http://www.w3.org/2000/svg\" height=\"24px\"viewBox=\"0 0 24 24\"\n",
              "       width=\"24px\">\n",
              "    <path d=\"M0 0h24v24H0V0z\" fill=\"none\"/>\n",
              "    <path d=\"M18.56 5.44l.94 2.06.94-2.06 2.06-.94-2.06-.94-.94-2.06-.94 2.06-2.06.94zm-11 1L8.5 8.5l.94-2.06 2.06-.94-2.06-.94L8.5 2.5l-.94 2.06-2.06.94zm10 10l.94 2.06.94-2.06 2.06-.94-2.06-.94-.94-2.06-.94 2.06-2.06.94z\"/><path d=\"M17.41 7.96l-1.37-1.37c-.4-.4-.92-.59-1.43-.59-.52 0-1.04.2-1.43.59L10.3 9.45l-7.72 7.72c-.78.78-.78 2.05 0 2.83L4 21.41c.39.39.9.59 1.41.59.51 0 1.02-.2 1.41-.59l7.78-7.78 2.81-2.81c.8-.78.8-2.07 0-2.86zM5.41 20L4 18.59l7.72-7.72 1.47 1.35L5.41 20z\"/>\n",
              "  </svg>\n",
              "      </button>\n",
              "      \n",
              "  <style>\n",
              "    .colab-df-container {\n",
              "      display:flex;\n",
              "      flex-wrap:wrap;\n",
              "      gap: 12px;\n",
              "    }\n",
              "\n",
              "    .colab-df-convert {\n",
              "      background-color: #E8F0FE;\n",
              "      border: none;\n",
              "      border-radius: 50%;\n",
              "      cursor: pointer;\n",
              "      display: none;\n",
              "      fill: #1967D2;\n",
              "      height: 32px;\n",
              "      padding: 0 0 0 0;\n",
              "      width: 32px;\n",
              "    }\n",
              "\n",
              "    .colab-df-convert:hover {\n",
              "      background-color: #E2EBFA;\n",
              "      box-shadow: 0px 1px 2px rgba(60, 64, 67, 0.3), 0px 1px 3px 1px rgba(60, 64, 67, 0.15);\n",
              "      fill: #174EA6;\n",
              "    }\n",
              "\n",
              "    [theme=dark] .colab-df-convert {\n",
              "      background-color: #3B4455;\n",
              "      fill: #D2E3FC;\n",
              "    }\n",
              "\n",
              "    [theme=dark] .colab-df-convert:hover {\n",
              "      background-color: #434B5C;\n",
              "      box-shadow: 0px 1px 3px 1px rgba(0, 0, 0, 0.15);\n",
              "      filter: drop-shadow(0px 1px 2px rgba(0, 0, 0, 0.3));\n",
              "      fill: #FFFFFF;\n",
              "    }\n",
              "  </style>\n",
              "\n",
              "      <script>\n",
              "        const buttonEl =\n",
              "          document.querySelector('#df-3b479add-22ae-4d22-82a8-528eb7866dcc button.colab-df-convert');\n",
              "        buttonEl.style.display =\n",
              "          google.colab.kernel.accessAllowed ? 'block' : 'none';\n",
              "\n",
              "        async function convertToInteractive(key) {\n",
              "          const element = document.querySelector('#df-3b479add-22ae-4d22-82a8-528eb7866dcc');\n",
              "          const dataTable =\n",
              "            await google.colab.kernel.invokeFunction('convertToInteractive',\n",
              "                                                     [key], {});\n",
              "          if (!dataTable) return;\n",
              "\n",
              "          const docLinkHtml = 'Like what you see? Visit the ' +\n",
              "            '<a target=\"_blank\" href=https://colab.research.google.com/notebooks/data_table.ipynb>data table notebook</a>'\n",
              "            + ' to learn more about interactive tables.';\n",
              "          element.innerHTML = '';\n",
              "          dataTable['output_type'] = 'display_data';\n",
              "          await google.colab.output.renderOutput(dataTable, element);\n",
              "          const docLink = document.createElement('div');\n",
              "          docLink.innerHTML = docLinkHtml;\n",
              "          element.appendChild(docLink);\n",
              "        }\n",
              "      </script>\n",
              "    </div>\n",
              "  </div>\n",
              "  "
            ]
          },
          "metadata": {},
          "execution_count": 24
        }
      ]
    },
    {
      "cell_type": "code",
      "source": [
        "# Handle N.A data type - replacing with 0. \n",
        "X2 = X2[features].fillna(0).astype(float)"
      ],
      "metadata": {
        "id": "dNOY20Jdk1qQ"
      },
      "execution_count": 25,
      "outputs": []
    },
    {
      "cell_type": "code",
      "source": [
        "#perform train and test data splits using y and X\n",
        "X_train, X_test, y_train, y_test = train_test_split(X2, y2, test_size=0.2, random_state=1)\n",
        "# confirm we have the right number of train and test data set\n",
        "print( len(X_train), len(X_test), len(y_train), len(y_test) )"
      ],
      "metadata": {
        "colab": {
          "base_uri": "https://localhost:8080/"
        },
        "id": "F9VCFzmyk39W",
        "outputId": "ac8113ed-95e3-4dd9-b15b-92674f5accc8"
      },
      "execution_count": 26,
      "outputs": [
        {
          "output_type": "stream",
          "name": "stdout",
          "text": [
            "23276 5820 23276 5820\n"
          ]
        }
      ]
    },
    {
      "cell_type": "code",
      "source": [
        "# Standardize data to make models coeficients interpratable. \n",
        "sc = StandardScaler()\n",
        "X_train = sc.fit_transform(X_train)\n",
        "X_test = sc.transform(X_test)\n",
        "\n",
        "logistic_regression = LogisticRegression()\n",
        "\n",
        "# instantiate Logistic Regression model\n",
        "logistic_regression.fit(X_train, y_train)\n",
        "\n",
        "# Predict the results\n",
        "pred = logistic_regression.predict(X_test)"
      ],
      "metadata": {
        "id": "j6hA6wlVk6Dk"
      },
      "execution_count": 27,
      "outputs": []
    },
    {
      "cell_type": "code",
      "source": [
        "# Calculate and print R^2 and MAE\n",
        "print( 'R^2:', r2_score(y_test, pred))\n",
        "print( 'MAE:', mean_absolute_error(y_test, pred))\n",
        "print('RMSE:', np.sqrt(metrics.mean_squared_error(y_test, pred)))\n",
        "print('MSE:', metrics.mean_squared_error(y_test, pred))\n",
        "print('\\n')"
      ],
      "metadata": {
        "colab": {
          "base_uri": "https://localhost:8080/"
        },
        "id": "tSvs8uUXpN3n",
        "outputId": "da623a99-83c5-4667-d51b-276c625fc979"
      },
      "execution_count": 28,
      "outputs": [
        {
          "output_type": "stream",
          "name": "stdout",
          "text": [
            "R^2: -0.025180745814307626\n",
            "MAE: 0.190893470790378\n",
            "RMSE: 0.4369135735936548\n",
            "MSE: 0.190893470790378\n",
            "\n",
            "\n"
          ]
        }
      ]
    },
    {
      "cell_type": "code",
      "source": [
        "plt.title('Confusion Matrix for Logistic Regression')\n",
        "cm_lr = confusion_matrix(y_test,pred)\n",
        "sns.heatmap(cm_lr,annot=True, fmt=\"d\", cmap=\"YlGnBu\")\n",
        "plt.xlabel('Predicted Values')\n",
        "plt.ylabel('Actual Values')\n",
        "plt.show()"
      ],
      "metadata": {
        "colab": {
          "base_uri": "https://localhost:8080/",
          "height": 295
        },
        "id": "oLk5k7lqpITT",
        "outputId": "323c1a83-2b79-4e6a-9c77-f385676dfd45"
      },
      "execution_count": 29,
      "outputs": [
        {
          "output_type": "display_data",
          "data": {
            "text/plain": [
              "<Figure size 432x288 with 2 Axes>"
            ],
            "image/png": "[encoded data removed]"
          },
          "metadata": {
            "needs_background": "light"
          }
        }
      ]
    },
    {
      "cell_type": "code",
      "source": [
        "from sklearn.metrics import plot_roc_curve\n",
        "# Plot ROC curve\n",
        "plot_roc_curve(logistic_regression, X_test, y_test)\n",
        "plt.plot([0, 1], [0, 1], 'k--')\n",
        "plt.title('ROC Curve')\n",
        "plt.show()"
      ],
      "metadata": {
        "colab": {
          "base_uri": "https://localhost:8080/",
          "height": 351
        },
        "id": "1qqhKa61pA8c",
        "outputId": "25ef8696-3ef7-4531-8a7b-03cfef4e91cf"
      },
      "execution_count": 30,
      "outputs": [
        {
          "output_type": "stream",
          "name": "stderr",
          "text": [
            "/usr/local/lib/python3.7/dist-packages/sklearn/utils/deprecation.py:87: FutureWarning: Function plot_roc_curve is deprecated; Function :func:`plot_roc_curve` is deprecated in 1.0 and will be removed in 1.2. Use one of the class methods: :meth:`sklearn.metric.RocCurveDisplay.from_predictions` or :meth:`sklearn.metric.RocCurveDisplay.from_estimator`.\n",
            "  warnings.warn(msg, category=FutureWarning)\n"
          ]
        },
        {
          "output_type": "display_data",
          "data": {
            "text/plain": [
              "<Figure size 432x288 with 1 Axes>"
            ],
            "image/png": "[encoded data removed]"
          },
          "metadata": {
            "needs_background": "light"
          }
        }
      ]
    },
    {
      "cell_type": "code",
      "source": [
        "print('\\nClassification Report of Logistic Regression\\n')\n",
        "print(classification_report(y_test, pred))\n",
        "\n",
        "print(\"Precision score of Logistic Regression:\", precision_score(y_test, pred, average = 'weighted'))\n",
        "print(\"Recall score of Logistic Regression:\", recall_score(y_test, pred, average = 'weighted'))\n",
        "print(\"F1 score of Logistic Regression:\", f1_score(y_test, pred, average = 'weighted'))"
      ],
      "metadata": {
        "colab": {
          "base_uri": "https://localhost:8080/"
        },
        "id": "peMCWcOzk7RZ",
        "outputId": "34c2da12-4ca5-4141-d276-66845960d032"
      },
      "execution_count": 31,
      "outputs": [
        {
          "output_type": "stream",
          "name": "stdout",
          "text": [
            "\n",
            "Classification Report of Logistic Regression\n",
            "\n",
            "              precision    recall  f1-score   support\n",
            "\n",
            "           0       0.82      0.95      0.88      4380\n",
            "           1       0.71      0.39      0.50      1440\n",
            "\n",
            "    accuracy                           0.81      5820\n",
            "   macro avg       0.77      0.67      0.69      5820\n",
            "weighted avg       0.80      0.81      0.79      5820\n",
            "\n",
            "Precision score of Logistic Regression: 0.7961558211959451\n",
            "Recall score of Logistic Regression: 0.809106529209622\n",
            "F1 score of Logistic Regression: 0.7876489398736055\n"
          ]
        }
      ]
    },
    {
      "cell_type": "markdown",
      "source": [
        "### Adding Categorial Features to the Model"
      ],
      "metadata": {
        "id": "6npdT23YJ6fG"
      }
    },
    {
      "cell_type": "markdown",
      "source": [
        "<div>In order to consider the categorical features, we use one hot encoder to transform categorical features to binary variables.</div>"
      ],
      "metadata": {
        "id": "hlRjfyNcpSYe"
      }
    },
    {
      "cell_type": "code",
      "source": [
        "def get_categorical_columns(data, cat_columns=None, fillna=True):\n",
        "    if cat_columns is None:\n",
        "        cat_data = data.select_dtypes('category')\n",
        "    else:\n",
        "        cat_data = data[cat_columns]\n",
        "\n",
        "    if fillna:\n",
        "        for colname, series in cat_data.iteritems():\n",
        "            if 'Other' not in series.cat.categories:\n",
        "                series = series.cat.add_categories(['Other'])\n",
        "\n",
        "            cat_data[colname] = series.fillna('Other')\n",
        "            \n",
        "    return cat_data\n",
        "\n",
        "def features_with_one_hot_encoded_categories(data, cat_columns=None, fillna=True):\n",
        "    cat_data = get_categorical_columns(data, cat_columns, fillna)\n",
        "    one_hot_data = pd.get_dummies(cat_data)\n",
        "    df = pd.concat([data, one_hot_data], axis=1)\n",
        "\n",
        "    features = [\n",
        "        'age',\n",
        "        'education_num',\n",
        "        'hours_per_week',\n",
        "        'capital_gain',\n",
        "        'capital_loss',\n",
        "    ] + one_hot_data.columns.tolist()\n",
        "\n",
        "    X = df[features].fillna(0).astype(float)\n",
        "    y = df[target_column]\n",
        "    \n",
        "    return X, y"
      ],
      "metadata": {
        "id": "MZb0F3bl-2ho"
      },
      "execution_count": 32,
      "outputs": []
    },
    {
      "cell_type": "code",
      "source": [
        "train_data = data.copy(deep=True)\n",
        "X3, y3 = features_with_one_hot_encoded_categories(train_data)\n"
      ],
      "metadata": {
        "colab": {
          "base_uri": "https://localhost:8080/"
        },
        "id": "MKkojVCL_iG2",
        "outputId": "467f40f4-55fb-4072-e34e-8ddacba5f467"
      },
      "execution_count": 33,
      "outputs": [
        {
          "output_type": "stream",
          "name": "stderr",
          "text": [
            "/usr/local/lib/python3.7/dist-packages/ipykernel_launcher.py:12: SettingWithCopyWarning: \n",
            "A value is trying to be set on a copy of a slice from a DataFrame.\n",
            "Try using .loc[row_indexer,col_indexer] = value instead\n",
            "\n",
            "See the caveats in the documentation: https://pandas.pydata.org/pandas-docs/stable/user_guide/indexing.html#returning-a-view-versus-a-copy\n",
            "  if sys.path[0] == '':\n"
          ]
        }
      ]
    },
    {
      "cell_type": "code",
      "source": [
        "#perform train and test data splits using y and X\n",
        "X_train, X_test, y_train, y_test = train_test_split(X3, y3, test_size=0.2, random_state=1)\n",
        "# confirm we have the right number of train and test data set\n",
        "print( len(X_train), len(X_test), len(y_train), len(y_test) )"
      ],
      "metadata": {
        "colab": {
          "base_uri": "https://localhost:8080/"
        },
        "id": "tMuQFKjQACu4",
        "outputId": "dd411401-f0d1-4344-e14b-64a17887bc8b"
      },
      "execution_count": 34,
      "outputs": [
        {
          "output_type": "stream",
          "name": "stdout",
          "text": [
            "23276 5820 23276 5820\n"
          ]
        }
      ]
    },
    {
      "cell_type": "code",
      "source": [
        "# Standardize data to make models coeficients interpratable. \n",
        "sc = StandardScaler()\n",
        "X_train = sc.fit_transform(X_train)\n",
        "X_test = sc.transform(X_test)\n",
        "\n",
        "logistic_regression = LogisticRegression()\n",
        "\n",
        "# instantiate Logistic Regression model\n",
        "logistic_regression.fit(X_train, y_train)\n",
        "\n",
        "# Predict the results\n",
        "pred = logistic_regression.predict(X_test)"
      ],
      "metadata": {
        "id": "A2eXoGE0ANL5"
      },
      "execution_count": 35,
      "outputs": []
    },
    {
      "cell_type": "code",
      "source": [
        "# Calculate and print R^2 and MAE\n",
        "print( 'R^2:', r2_score(y_test, pred))\n",
        "print( 'MAE:', mean_absolute_error(y_test, pred))\n",
        "print('RMSE:', np.sqrt(metrics.mean_squared_error(y_test, pred)))\n",
        "print('MSE:', metrics.mean_squared_error(y_test, pred))\n",
        "print('\\n')"
      ],
      "metadata": {
        "colab": {
          "base_uri": "https://localhost:8080/"
        },
        "id": "MdkbcAYEAglz",
        "outputId": "b6b8b993-b762-40ac-e79a-06ff2cb30aac"
      },
      "execution_count": 36,
      "outputs": [
        {
          "output_type": "stream",
          "name": "stdout",
          "text": [
            "R^2: 0.1556792237442921\n",
            "MAE: 0.15721649484536082\n",
            "RMSE: 0.3965053528583956\n",
            "MSE: 0.15721649484536082\n",
            "\n",
            "\n"
          ]
        }
      ]
    },
    {
      "cell_type": "code",
      "source": [
        "print('\\nClassification Report of Logistic Regression\\n')\n",
        "print(classification_report(y_test, pred))\n",
        "\n",
        "print(\"Precision score of Logistic Regression:\", precision_score(y_test, pred, average = 'weighted'))\n",
        "print(\"Recall score of Logistic Regression:\", recall_score(y_test, pred, average = 'weighted'))\n",
        "print(\"F1 score of Logistic Regression:\", f1_score(y_test, pred, average = 'weighted'))"
      ],
      "metadata": {
        "colab": {
          "base_uri": "https://localhost:8080/"
        },
        "id": "dkMSjrFDAZDh",
        "outputId": "d235ad9a-fd23-48b7-c814-e9152283b308"
      },
      "execution_count": 37,
      "outputs": [
        {
          "output_type": "stream",
          "name": "stdout",
          "text": [
            "\n",
            "Classification Report of Logistic Regression\n",
            "\n",
            "              precision    recall  f1-score   support\n",
            "\n",
            "           0       0.87      0.93      0.90      4380\n",
            "           1       0.73      0.59      0.65      1440\n",
            "\n",
            "    accuracy                           0.84      5820\n",
            "   macro avg       0.80      0.76      0.77      5820\n",
            "weighted avg       0.84      0.84      0.84      5820\n",
            "\n",
            "Precision score of Logistic Regression: 0.8358198945046201\n",
            "Recall score of Logistic Regression: 0.8427835051546392\n",
            "F1 score of Logistic Regression: 0.8368278370301496\n"
          ]
        }
      ]
    },
    {
      "cell_type": "code",
      "source": [
        "plt.title('Confusion Matrix for Logistic Regression')\n",
        "cm_lr = confusion_matrix(y_test,pred)\n",
        "sns.heatmap(cm_lr,annot=True, fmt=\"d\", cmap=\"YlGnBu\")\n",
        "plt.xlabel('Predicted Values')\n",
        "plt.ylabel('Actual Values')\n",
        "plt.show()"
      ],
      "metadata": {
        "colab": {
          "base_uri": "https://localhost:8080/",
          "height": 295
        },
        "id": "Vh6s6xV6AjoO",
        "outputId": "11c211fb-915f-4f32-87cd-6edb54719ed5"
      },
      "execution_count": 38,
      "outputs": [
        {
          "output_type": "display_data",
          "data": {
            "text/plain": [
              "<Figure size 432x288 with 2 Axes>"
            ],
            "image/png": "[encoded data removed]"
          },
          "metadata": {
            "needs_background": "light"
          }
        }
      ]
    },
    {
      "cell_type": "code",
      "source": [
        "from sklearn.metrics import plot_roc_curve\n",
        "# Plot ROC curve\n",
        "plot_roc_curve(logistic_regression, X_test, y_test)\n",
        "plt.plot([0, 1], [0, 1], 'k--')\n",
        "plt.title('ROC Curve')\n",
        "plt.show()"
      ],
      "metadata": {
        "id": "1lEXmVD9An_b",
        "outputId": "7af03c5f-ac68-4922-816f-0412ca99d68a",
        "colab": {
          "base_uri": "https://localhost:8080/",
          "height": 351
        }
      },
      "execution_count": 39,
      "outputs": [
        {
          "output_type": "stream",
          "name": "stderr",
          "text": [
            "/usr/local/lib/python3.7/dist-packages/sklearn/utils/deprecation.py:87: FutureWarning: Function plot_roc_curve is deprecated; Function :func:`plot_roc_curve` is deprecated in 1.0 and will be removed in 1.2. Use one of the class methods: :meth:`sklearn.metric.RocCurveDisplay.from_predictions` or :meth:`sklearn.metric.RocCurveDisplay.from_estimator`.\n",
            "  warnings.warn(msg, category=FutureWarning)\n"
          ]
        },
        {
          "output_type": "display_data",
          "data": {
            "text/plain": [
              "<Figure size 432x288 with 1 Axes>"
            ],
            "image/png": "[encoded data removed]"
          },
          "metadata": {
            "needs_background": "light"
          }
        }
      ]
    },
    {
      "cell_type": "markdown",
      "source": [
        "## Support Vector Machine"
      ],
      "metadata": {
        "id": "ud7LfjIbKDps"
      }
    },
    {
      "cell_type": "markdown",
      "source": [
        "Due to the large number of data points, as well as the number of feaatures, traaining on all of the data would take a significant amount of time (at least from my experience). Therefore, we sample from the the datasets we created for logistic regression. We have an inversely proportional relationship between the sample size and the number of features/parameters we test."
      ],
      "metadata": {
        "id": "unRl4USzALCF"
      }
    },
    {
      "cell_type": "markdown",
      "source": [
        "### SVM with 3 features"
      ],
      "metadata": {
        "id": "hJTq2uoA8BQs"
      }
    },
    {
      "cell_type": "code",
      "source": [
        "X_train_svm, X_test_svm, y_train_svm, y_test_svm = train_test_split(X1.sample(n = 100, replace = False), \n",
        "                                                                    y1.sample(n = 100, replace = False), \n",
        "                                                                    test_size=0.2, \n",
        "                                                                    random_state=1)"
      ],
      "metadata": {
        "id": "BZD6ROEkPYE3"
      },
      "execution_count": 40,
      "outputs": []
    },
    {
      "cell_type": "code",
      "source": [
        "from sklearn.svm import SVC\n",
        "from sklearn.model_selection import GridSearchCV\n",
        "\n",
        "# Creating various SVC models to tune the hyperparameters\n",
        "# Parameters used for hypertuning\n",
        "parameters = {'C': [0.01, 0.1, 1, 10, 100], 'kernel': ['rbf', 'poly', 'sigmoid', 'linear'], 'degree': [1, 2, 3, 4]}\n",
        "\n",
        "# Initializes Grid with the classifier used, and the parameters to hypertune\n",
        "grid = GridSearchCV(SVC(), parameters)\n",
        "\n",
        "# Trains the models with training data and finds best model\n",
        "grid.fit(X_train_svm, y_train_svm)\n",
        "\n",
        "# Hypertuned parameters along with the resulting accuracy\n",
        "print(grid.best_params_)"
      ],
      "metadata": {
        "id": "KfluEPvBFB6e",
        "colab": {
          "base_uri": "https://localhost:8080/"
        },
        "outputId": "8e376d13-2cf2-4657-9a1d-2661cd9eae66"
      },
      "execution_count": 44,
      "outputs": [
        {
          "output_type": "stream",
          "name": "stdout",
          "text": [
            "{'C': 0.01, 'degree': 1, 'kernel': 'rbf'}\n"
          ]
        }
      ]
    },
    {
      "cell_type": "code",
      "source": [
        "from sklearn.metrics import accuracy_score\n",
        "y_pred_svm = grid.predict(np.array(X_test_svm))\n",
        "accuracy_score(y_pred_svm, y_test_svm)"
      ],
      "metadata": {
        "colab": {
          "base_uri": "https://localhost:8080/"
        },
        "id": "7PsVBHRLCPxy",
        "outputId": "43eb5106-bd42-4df7-aa4b-20f590e0ce10"
      },
      "execution_count": 45,
      "outputs": [
        {
          "output_type": "stream",
          "name": "stderr",
          "text": [
            "/usr/local/lib/python3.7/dist-packages/sklearn/base.py:451: UserWarning: X does not have valid feature names, but SVC was fitted with feature names\n",
            "  \"X does not have valid feature names, but\"\n"
          ]
        },
        {
          "output_type": "execute_result",
          "data": {
            "text/plain": [
              "0.7"
            ]
          },
          "metadata": {},
          "execution_count": 45
        }
      ]
    },
    {
      "cell_type": "code",
      "source": [
        "# Works if the kernel is linear\n",
        "importance = grid.best_estimator_.coef_[0]\n",
        "feature_names = grid.best_estimator_.feature_names_in_\n",
        "for i,v in enumerate(importance):\n",
        "    print('Feature: ' + feature_names[i] + ', Score: %.5f' % v)\n",
        "# plot feature importance\n",
        "plt.bar([x for x in range(len(importance))], importance)\n",
        "plt.show()"
      ],
      "metadata": {
        "id": "mDev08fLLQiM",
        "colab": {
          "base_uri": "https://localhost:8080/",
          "height": 365
        },
        "outputId": "6883bd0a-ac11-427d-fdb3-e3f0c9707ffd"
      },
      "execution_count": 43,
      "outputs": [
        {
          "output_type": "error",
          "ename": "AttributeError",
          "evalue": "ignored",
          "traceback": [
            "\u001b[0;31m---------------------------------------------------------------------------\u001b[0m",
            "\u001b[0;31mAttributeError\u001b[0m                            Traceback (most recent call last)",
            "\u001b[0;32m<ipython-input-43-94a5355e94b1>\u001b[0m in \u001b[0;36m<module>\u001b[0;34m\u001b[0m\n\u001b[1;32m      1\u001b[0m \u001b[0;31m# Works if the kernel is linear\u001b[0m\u001b[0;34m\u001b[0m\u001b[0;34m\u001b[0m\u001b[0;34m\u001b[0m\u001b[0m\n\u001b[0;32m----> 2\u001b[0;31m \u001b[0mimportance\u001b[0m \u001b[0;34m=\u001b[0m \u001b[0mgrid\u001b[0m\u001b[0;34m.\u001b[0m\u001b[0mbest_estimator_\u001b[0m\u001b[0;34m.\u001b[0m\u001b[0mcoef_\u001b[0m\u001b[0;34m[\u001b[0m\u001b[0;36m0\u001b[0m\u001b[0;34m]\u001b[0m\u001b[0;34m\u001b[0m\u001b[0;34m\u001b[0m\u001b[0m\n\u001b[0m\u001b[1;32m      3\u001b[0m \u001b[0mfeature_names\u001b[0m \u001b[0;34m=\u001b[0m \u001b[0mgrid\u001b[0m\u001b[0;34m.\u001b[0m\u001b[0mbest_estimator_\u001b[0m\u001b[0;34m.\u001b[0m\u001b[0mfeature_names_in_\u001b[0m\u001b[0;34m\u001b[0m\u001b[0;34m\u001b[0m\u001b[0m\n\u001b[1;32m      4\u001b[0m \u001b[0;32mfor\u001b[0m \u001b[0mi\u001b[0m\u001b[0;34m,\u001b[0m\u001b[0mv\u001b[0m \u001b[0;32min\u001b[0m \u001b[0menumerate\u001b[0m\u001b[0;34m(\u001b[0m\u001b[0mimportance\u001b[0m\u001b[0;34m)\u001b[0m\u001b[0;34m:\u001b[0m\u001b[0;34m\u001b[0m\u001b[0;34m\u001b[0m\u001b[0m\n\u001b[1;32m      5\u001b[0m     \u001b[0mprint\u001b[0m\u001b[0;34m(\u001b[0m\u001b[0;34m'Feature: '\u001b[0m \u001b[0;34m+\u001b[0m \u001b[0mfeature_names\u001b[0m\u001b[0;34m[\u001b[0m\u001b[0mi\u001b[0m\u001b[0;34m]\u001b[0m \u001b[0;34m+\u001b[0m \u001b[0;34m', Score: %.5f'\u001b[0m \u001b[0;34m%\u001b[0m \u001b[0mv\u001b[0m\u001b[0;34m)\u001b[0m\u001b[0;34m\u001b[0m\u001b[0;34m\u001b[0m\u001b[0m\n",
            "\u001b[0;32m/usr/local/lib/python3.7/dist-packages/sklearn/svm/_base.py\u001b[0m in \u001b[0;36mcoef_\u001b[0;34m(self)\u001b[0m\n\u001b[1;32m    635\u001b[0m         \"\"\"\n\u001b[1;32m    636\u001b[0m         \u001b[0;32mif\u001b[0m \u001b[0mself\u001b[0m\u001b[0;34m.\u001b[0m\u001b[0mkernel\u001b[0m \u001b[0;34m!=\u001b[0m \u001b[0;34m\"linear\"\u001b[0m\u001b[0;34m:\u001b[0m\u001b[0;34m\u001b[0m\u001b[0;34m\u001b[0m\u001b[0m\n\u001b[0;32m--> 637\u001b[0;31m             \u001b[0;32mraise\u001b[0m \u001b[0mAttributeError\u001b[0m\u001b[0;34m(\u001b[0m\u001b[0;34m\"coef_ is only available when using a linear kernel\"\u001b[0m\u001b[0;34m)\u001b[0m\u001b[0;34m\u001b[0m\u001b[0;34m\u001b[0m\u001b[0m\n\u001b[0m\u001b[1;32m    638\u001b[0m \u001b[0;34m\u001b[0m\u001b[0m\n\u001b[1;32m    639\u001b[0m         \u001b[0mcoef\u001b[0m \u001b[0;34m=\u001b[0m \u001b[0mself\u001b[0m\u001b[0;34m.\u001b[0m\u001b[0m_get_coef\u001b[0m\u001b[0;34m(\u001b[0m\u001b[0;34m)\u001b[0m\u001b[0;34m\u001b[0m\u001b[0;34m\u001b[0m\u001b[0m\n",
            "\u001b[0;31mAttributeError\u001b[0m: coef_ is only available when using a linear kernel"
          ]
        }
      ]
    },
    {
      "cell_type": "code",
      "source": [
        "plt.title('Confusion Matrix for SVM')\n",
        "cm_lr = confusion_matrix(y_test_svm,y_pred_svm)\n",
        "sns.heatmap(cm_lr,annot=True, fmt=\"d\", cmap=\"YlGnBu\")\n",
        "plt.xlabel('Predicted Values')\n",
        "plt.ylabel('Actual Values')\n",
        "plt.show()"
      ],
      "metadata": {
        "colab": {
          "base_uri": "https://localhost:8080/",
          "height": 295
        },
        "id": "XT8sr_oLjW6u",
        "outputId": "db74f5d4-43c9-4e55-ba94-b27cb71e57e6"
      },
      "execution_count": 46,
      "outputs": [
        {
          "output_type": "display_data",
          "data": {
            "text/plain": [
              "<Figure size 432x288 with 2 Axes>"
            ],
            "image/png": "[encoded data removed]"
          },
          "metadata": {
            "needs_background": "light"
          }
        }
      ]
    },
    {
      "cell_type": "markdown",
      "source": [
        "### SVM with 5 features"
      ],
      "metadata": {
        "id": "9JLSAKMzK2CC"
      }
    },
    {
      "cell_type": "code",
      "source": [
        "X_train_svm, X_test_svm, y_train_svm, y_test_svm = train_test_split(X2.sample(n = 100, replace = False), \n",
        "                                                                    y2.sample(n = 100, replace = False), \n",
        "                                                                    test_size=0.2, \n",
        "                                                                    random_state=1)"
      ],
      "metadata": {
        "id": "GV_cBKfqK2CI"
      },
      "execution_count": 47,
      "outputs": []
    },
    {
      "cell_type": "code",
      "source": [
        "from sklearn.svm import SVC\n",
        "from sklearn.model_selection import GridSearchCV\n",
        "\n",
        "# Creating various SVC models to tune the hyperparameters\n",
        "# Parameters used for hypertuning\n",
        "parameters = {'C': [0.01, 0.1, 1, 10, 100], 'kernel': ['linear', 'rbf']}\n",
        "\n",
        "# Initializes Grid with the classifier used, and the parameters to hypertune\n",
        "grid = GridSearchCV(SVC(), parameters)\n",
        "\n",
        "# Trains the models with training data and finds best model\n",
        "grid.fit(X_train_svm, y_train_svm)\n",
        "\n",
        "# Hypertuned parameters along with the resulting accuracy\n",
        "print(grid.best_params_)"
      ],
      "metadata": {
        "id": "8cynvp98K2CJ",
        "colab": {
          "base_uri": "https://localhost:8080/"
        },
        "outputId": "ce4309c0-e57a-499a-e011-1f933a8648dc"
      },
      "execution_count": 48,
      "outputs": [
        {
          "output_type": "stream",
          "name": "stdout",
          "text": [
            "{'C': 1, 'kernel': 'linear'}\n"
          ]
        }
      ]
    },
    {
      "cell_type": "code",
      "source": [
        "from sklearn.metrics import accuracy_score\n",
        "y_pred_svm = grid.predict(np.array(X_test_svm))\n",
        "accuracy_score(y_pred_svm, y_test_svm)"
      ],
      "metadata": {
        "colab": {
          "base_uri": "https://localhost:8080/"
        },
        "outputId": "f308d988-81b5-413d-9b90-433e12771e8f",
        "id": "_22uMEvUK2CJ"
      },
      "execution_count": 49,
      "outputs": [
        {
          "output_type": "stream",
          "name": "stderr",
          "text": [
            "/usr/local/lib/python3.7/dist-packages/sklearn/base.py:451: UserWarning: X does not have valid feature names, but SVC was fitted with feature names\n",
            "  \"X does not have valid feature names, but\"\n"
          ]
        },
        {
          "output_type": "execute_result",
          "data": {
            "text/plain": [
              "0.75"
            ]
          },
          "metadata": {},
          "execution_count": 49
        }
      ]
    },
    {
      "cell_type": "code",
      "source": [
        "# Works if the kernel is linear\n",
        "importance = grid.best_estimator_.coef_[0]\n",
        "feature_names = grid.best_estimator_.feature_names_in_\n",
        "for i,v in enumerate(importance):\n",
        "    print('Feature: ' + feature_names[i] + ', Score: %.5f' % v)\n",
        "# plot feature importance\n",
        "plt.bar([x for x in range(len(importance))], importance)\n",
        "plt.show()"
      ],
      "metadata": {
        "colab": {
          "base_uri": "https://localhost:8080/",
          "height": 354
        },
        "outputId": "8062905f-6ab5-44a6-91ba-109915caaf4e",
        "id": "jBTbAUiiK2CJ"
      },
      "execution_count": 50,
      "outputs": [
        {
          "output_type": "stream",
          "name": "stdout",
          "text": [
            "Feature: age, Score: -0.00103\n",
            "Feature: education_num, Score: -0.02051\n",
            "Feature: hours_per_week, Score: 0.03247\n",
            "Feature: capital_gain, Score: -0.00053\n",
            "Feature: capital_loss, Score: 0.00000\n"
          ]
        },
        {
          "output_type": "display_data",
          "data": {
            "text/plain": [
              "<Figure size 432x288 with 1 Axes>"
            ],
            "image/png": "[encoded data removed]"
          },
          "metadata": {
            "needs_background": "light"
          }
        }
      ]
    },
    {
      "cell_type": "code",
      "source": [
        "plt.title('Confusion Matrix for Logistic SVM')\n",
        "cm_lr = confusion_matrix(y_test_svm,y_pred_svm)\n",
        "sns.heatmap(cm_lr,annot=True, fmt=\"d\", cmap=\"YlGnBu\")\n",
        "plt.xlabel('Predicted Values')\n",
        "plt.ylabel('Actual Values')\n",
        "plt.show()"
      ],
      "metadata": {
        "id": "13mxAS9sK2CJ",
        "colab": {
          "base_uri": "https://localhost:8080/",
          "height": 295
        },
        "outputId": "a588acff-3026-465a-ad26-123699a211a7"
      },
      "execution_count": 51,
      "outputs": [
        {
          "output_type": "display_data",
          "data": {
            "text/plain": [
              "<Figure size 432x288 with 2 Axes>"
            ],
            "image/png": "[encoded data removed]"
          },
          "metadata": {
            "needs_background": "light"
          }
        }
      ]
    },
    {
      "cell_type": "markdown",
      "source": [
        "### SVM with Categorial Features"
      ],
      "metadata": {
        "id": "tS5L38KdjsYa"
      }
    },
    {
      "cell_type": "code",
      "source": [
        "X_train_svm, X_test_svm, y_train_svm, y_test_svm = train_test_split(X3.sample(n = 50, replace = False), \n",
        "                                                                    y3.sample(n = 50, replace = False), \n",
        "                                                                    test_size=0.2, \n",
        "                                                                    random_state=1)"
      ],
      "metadata": {
        "id": "zAjqesJ7kQbb"
      },
      "execution_count": 52,
      "outputs": []
    },
    {
      "cell_type": "code",
      "source": [
        "from sklearn.svm import SVC\n",
        "from sklearn.model_selection import GridSearchCV\n",
        "\n",
        "# Creating various SVC models to tune the hyperparameters\n",
        "# Parameters used for hypertuning\n",
        "parameters = {'C': [0.1, 1, 10, 100, 1000], 'kernel': ['linear', 'rbf']}\n",
        "\n",
        "# Initializes Grid with the classifier used, and the parameters to hypertune\n",
        "grid = GridSearchCV(SVC(), parameters)\n",
        "\n",
        "# Trains the models with training data and finds best model\n",
        "grid.fit(X_train_svm, y_train_svm)\n",
        "\n",
        "# Hypertuned parameters along with the resulting accuracy\n",
        "print(grid.best_params_)"
      ],
      "metadata": {
        "colab": {
          "base_uri": "https://localhost:8080/"
        },
        "outputId": "e2de6fb0-7155-439a-8e9d-fe23d0f6b0b9",
        "id": "gIKLh8s_kQbc"
      },
      "execution_count": 53,
      "outputs": [
        {
          "output_type": "stream",
          "name": "stdout",
          "text": [
            "{'C': 0.1, 'kernel': 'linear'}\n"
          ]
        }
      ]
    },
    {
      "cell_type": "code",
      "source": [
        "from sklearn.metrics import accuracy_score\n",
        "y_pred_svm = grid.predict(np.array(X_test_svm))\n",
        "accuracy_score(y_pred_svm, y_test_svm)"
      ],
      "metadata": {
        "colab": {
          "base_uri": "https://localhost:8080/"
        },
        "outputId": "34f7c0b9-ddbf-4672-f65a-9a6aaf716b62",
        "id": "-RQhQtynkQbc"
      },
      "execution_count": 54,
      "outputs": [
        {
          "output_type": "stream",
          "name": "stderr",
          "text": [
            "/usr/local/lib/python3.7/dist-packages/sklearn/base.py:451: UserWarning: X does not have valid feature names, but SVC was fitted with feature names\n",
            "  \"X does not have valid feature names, but\"\n"
          ]
        },
        {
          "output_type": "execute_result",
          "data": {
            "text/plain": [
              "0.6"
            ]
          },
          "metadata": {},
          "execution_count": 54
        }
      ]
    },
    {
      "cell_type": "code",
      "source": [
        "# Works if the kernel is linear\n",
        "importance = grid.best_estimator_.coef_[0]\n",
        "feature_names = grid.best_estimator_.feature_names_in_\n",
        "for i,v in enumerate(importance):\n",
        "    print('Feature: ' + feature_names[i] + ', Score: %.5f' % v)\n",
        "# plot feature importance\n",
        "plt.bar([x for x in range(len(importance))], importance)\n",
        "plt.show()"
      ],
      "metadata": {
        "colab": {
          "base_uri": "https://localhost:8080/",
          "height": 1000
        },
        "outputId": "88a3d0f6-5512-4b0b-db6d-c9266cc465fe",
        "id": "0j0sM7GGkQbc"
      },
      "execution_count": 55,
      "outputs": [
        {
          "output_type": "stream",
          "name": "stdout",
          "text": [
            "Feature: age, Score: -0.00044\n",
            "Feature: education_num, Score: 0.06043\n",
            "Feature: hours_per_week, Score: -0.05065\n",
            "Feature: capital_gain, Score: -0.00012\n",
            "Feature: capital_loss, Score: 0.00014\n",
            "Feature: workclass_Federal-gov, Score: 0.00000\n",
            "Feature: workclass_Local-gov, Score: 0.05385\n",
            "Feature: workclass_Never-worked, Score: 0.00000\n",
            "Feature: workclass_Private, Score: -0.10966\n",
            "Feature: workclass_Self-emp-inc, Score: 0.00000\n",
            "Feature: workclass_Self-emp-not-inc, Score: -0.04418\n",
            "Feature: workclass_State-gov, Score: 0.00000\n",
            "Feature: workclass_Without-pay, Score: 0.00000\n",
            "Feature: workclass_Other, Score: 0.10000\n",
            "Feature: education_10th, Score: 0.00000\n",
            "Feature: education_11th, Score: -0.10000\n",
            "Feature: education_12th, Score: 0.00000\n",
            "Feature: education_1st-4th, Score: -0.03636\n",
            "Feature: education_5th-6th, Score: 0.10000\n",
            "Feature: education_7th-8th, Score: -0.02640\n",
            "Feature: education_9th, Score: 0.00000\n",
            "Feature: education_Assoc-acdm, Score: 0.00000\n",
            "Feature: education_Assoc-voc, Score: 0.10000\n",
            "Feature: education_Bachelors, Score: -0.04615\n",
            "Feature: education_Doctorate, Score: 0.00000\n",
            "Feature: education_HS-grad, Score: -0.08279\n",
            "Feature: education_Masters, Score: -0.00829\n",
            "Feature: education_Preschool, Score: 0.00000\n",
            "Feature: education_Prof-school, Score: 0.00000\n",
            "Feature: education_Some-college, Score: 0.10000\n",
            "Feature: education_Other, Score: 0.00000\n",
            "Feature: marital_status_Divorced, Score: -0.10000\n",
            "Feature: marital_status_Married-AF-spouse, Score: 0.00000\n",
            "Feature: marital_status_Married-civ-spouse, Score: 0.14752\n",
            "Feature: marital_status_Married-spouse-absent, Score: -0.10000\n",
            "Feature: marital_status_Never-married, Score: -0.03636\n",
            "Feature: marital_status_Separated, Score: 0.10000\n",
            "Feature: marital_status_Widowed, Score: -0.01116\n",
            "Feature: marital_status_Other, Score: 0.00000\n",
            "Feature: occupation_Adm-clerical, Score: 0.00000\n",
            "Feature: occupation_Armed-Forces, Score: 0.00000\n",
            "Feature: occupation_Craft-repair, Score: -0.10000\n",
            "Feature: occupation_Exec-managerial, Score: -0.00829\n",
            "Feature: occupation_Farming-fishing, Score: 0.05582\n",
            "Feature: occupation_Handlers-cleaners, Score: -0.10000\n",
            "Feature: occupation_Machine-op-inspct, Score: 0.00000\n",
            "Feature: occupation_Other-service, Score: 0.06364\n",
            "Feature: occupation_Priv-house-serv, Score: 0.00000\n",
            "Feature: occupation_Prof-specialty, Score: -0.04615\n",
            "Feature: occupation_Protective-serv, Score: 0.00000\n",
            "Feature: occupation_Sales, Score: 0.03499\n",
            "Feature: occupation_Tech-support, Score: 0.00000\n",
            "Feature: occupation_Transport-moving, Score: 0.00000\n",
            "Feature: occupation_Other, Score: 0.10000\n",
            "Feature: relationship_Husband, Score: -0.05248\n",
            "Feature: relationship_Not-in-family, Score: -0.13636\n",
            "Feature: relationship_Other-relative, Score: 0.00000\n",
            "Feature: relationship_Own-child, Score: 0.00000\n",
            "Feature: relationship_Unmarried, Score: -0.01116\n",
            "Feature: relationship_Wife, Score: 0.20000\n",
            "Feature: relationship_Other, Score: 0.00000\n",
            "Feature: race_Amer-Indian-Eskimo, Score: -0.06501\n",
            "Feature: race_Asian-Pac-Islander, Score: 0.00000\n",
            "Feature: race_Black, Score: 0.20000\n",
            "Feature: race_Other, Score: 0.00000\n",
            "Feature: race_White, Score: -0.13499\n",
            "Feature: sex_Female, Score: 0.18884\n",
            "Feature: sex_Male, Score: -0.18884\n",
            "Feature: sex_Other, Score: 0.00000\n",
            "Feature: native_country_Cambodia, Score: 0.00000\n",
            "Feature: native_country_Canada, Score: 0.00000\n",
            "Feature: native_country_China, Score: 0.00000\n",
            "Feature: native_country_Columbia, Score: 0.00000\n",
            "Feature: native_country_Cuba, Score: 0.00000\n",
            "Feature: native_country_Dominican-Republic, Score: 0.00000\n",
            "Feature: native_country_Ecuador, Score: 0.00000\n",
            "Feature: native_country_El-Salvador, Score: -0.03636\n",
            "Feature: native_country_England, Score: 0.00000\n",
            "Feature: native_country_France, Score: 0.00000\n",
            "Feature: native_country_Germany, Score: 0.00000\n",
            "Feature: native_country_Greece, Score: 0.00000\n",
            "Feature: native_country_Guatemala, Score: 0.00000\n",
            "Feature: native_country_Haiti, Score: 0.00000\n",
            "Feature: native_country_Holand-Netherlands, Score: 0.00000\n",
            "Feature: native_country_Honduras, Score: 0.00000\n",
            "Feature: native_country_Hong, Score: 0.00000\n",
            "Feature: native_country_Hungary, Score: 0.00000\n",
            "Feature: native_country_India, Score: 0.00000\n",
            "Feature: native_country_Iran, Score: 0.00000\n",
            "Feature: native_country_Ireland, Score: 0.00000\n",
            "Feature: native_country_Italy, Score: 0.00000\n",
            "Feature: native_country_Jamaica, Score: 0.00000\n",
            "Feature: native_country_Japan, Score: 0.00000\n",
            "Feature: native_country_Laos, Score: 0.00000\n",
            "Feature: native_country_Mexico, Score: 0.00000\n",
            "Feature: native_country_Nicaragua, Score: 0.00000\n",
            "Feature: native_country_Outlying-US(Guam-USVI-etc), Score: 0.00000\n",
            "Feature: native_country_Peru, Score: 0.00000\n",
            "Feature: native_country_Philippines, Score: 0.00000\n",
            "Feature: native_country_Poland, Score: 0.00000\n",
            "Feature: native_country_Portugal, Score: 0.00000\n",
            "Feature: native_country_Puerto-Rico, Score: 0.00000\n",
            "Feature: native_country_Scotland, Score: 0.00000\n",
            "Feature: native_country_South, Score: 0.00000\n",
            "Feature: native_country_Taiwan, Score: 0.00000\n",
            "Feature: native_country_Thailand, Score: 0.00000\n",
            "Feature: native_country_Trinadad&Tobago, Score: 0.00000\n",
            "Feature: native_country_United-States, Score: 0.03636\n",
            "Feature: native_country_Vietnam, Score: 0.00000\n",
            "Feature: native_country_Yugoslavia, Score: 0.00000\n",
            "Feature: native_country_Other, Score: 0.00000\n"
          ]
        },
        {
          "output_type": "display_data",
          "data": {
            "text/plain": [
              "<Figure size 432x288 with 1 Axes>"
            ],
            "image/png": "[encoded data removed]"
          },
          "metadata": {
            "needs_background": "light"
          }
        }
      ]
    },
    {
      "cell_type": "code",
      "source": [
        "plt.title('Confusion Matrix for SVC')\n",
        "cm_lr = confusion_matrix(y_test_svm,y_pred_svm)\n",
        "sns.heatmap(cm_lr,annot=True, fmt=\"d\", cmap=\"YlGnBu\")\n",
        "plt.xlabel('Predicted Values')\n",
        "plt.ylabel('Actual Values')\n",
        "plt.show()"
      ],
      "metadata": {
        "colab": {
          "base_uri": "https://localhost:8080/",
          "height": 295
        },
        "id": "PllpsHOGkQbd",
        "outputId": "c17f4bbf-3dc7-4105-fba1-a6d50b67fcf4"
      },
      "execution_count": 56,
      "outputs": [
        {
          "output_type": "display_data",
          "data": {
            "text/plain": [
              "<Figure size 432x288 with 2 Axes>"
            ],
            "image/png": "[encoded data removed]"
          },
          "metadata": {
            "needs_background": "light"
          }
        }
      ]
    },
    {
      "cell_type": "code",
      "source": [],
      "metadata": {
        "id": "rfMpG-mvAA1f"
      },
      "execution_count": null,
      "outputs": []
    }
  ]
}